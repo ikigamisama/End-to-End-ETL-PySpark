{
 "cells": [
  {
   "cell_type": "code",
   "execution_count": null,
   "id": "abaadaed",
   "metadata": {},
   "outputs": [],
   "source": [
    "from pyspark.sql import SparkSession\n",
    "import requests"
   ]
  },
  {
   "cell_type": "code",
   "execution_count": null,
   "id": "336acfbf",
   "metadata": {},
   "outputs": [],
   "source": [
    "spark = SparkSession.builder \\\n",
    "    .appName(\"Read_Silver_Layer\") \\\n",
    "    .master(\"local[*]\") \\\n",
    "    .config(\"spark.jars.packages\", \"org.apache.hadoop:hadoop-aws:3.3.4,com.amazonaws:aws-java-sdk-bundle:1.12.262\") \\\n",
    "    .config(\"spark.hadoop.fs.s3a.endpoint\", \"http://localhost:9000\") \\\n",
    "    .config(\"spark.hadoop.fs.s3a.access.key\", \"minioLocalAccessKey\") \\\n",
    "    .config(\"spark.hadoop.fs.s3a.secret.key\", \"minioLocalSecretKey123\") \\\n",
    "    .config(\"spark.hadoop.fs.s3a.path.style.access\", \"true\") \\\n",
    "    .config(\"spark.hadoop.fs.s3a.impl\", \"org.apache.hadoop.fs.s3a.S3AFileSystem\") \\\n",
    "    .config(\"spark.hadoop.fs.s3a.connection.ssl.enabled\", \"false\") \\\n",
    "    .config(\"spark.sql.adaptive.enabled\", \"true\") \\\n",
    "    .config(\"spark.sql.adaptive.coalescePartitions.enabled\", \"true\") \\\n",
    "    .getOrCreate()\n",
    "    \n",
    "spark"
   ]
  },
  {
   "cell_type": "code",
   "execution_count": null,
   "id": "c9403bd6",
   "metadata": {},
   "outputs": [],
   "source": [
    "paths = {\n",
    "    \"customers\": \"s3a://etl-dag/silver/data/customers/\",\n",
    "    \"transactions_static\": \"s3a://etl-dag/silver/data/transactions/static/\",\n",
    "    \"transactions_aggregated\": \"s3a://etl-dag/silver/data/transactions/aggregated/\",\n",
    "    \"products_static\": \"s3a://etl-dag/silver/data/products/static/\",\n",
    "    \"products_aggregated\": \"s3a://etl-dag/silver/data/products/aggregated/\"\n",
    "}\n",
    "\n",
    "dfs = {}\n",
    "for name, path in paths.items():\n",
    "    dfs[name] = spark.read.parquet(path)\n",
    "    print(f\"✅ Loaded: {name}\")"
   ]
  },
  {
   "cell_type": "code",
   "execution_count": null,
   "id": "dd6f61d3",
   "metadata": {},
   "outputs": [],
   "source": [
    "for name, df in dfs.items():\n",
    "    print(f\"\\n📄 Preview: {name}\")\n",
    "    df.show(5, truncate=False)"
   ]
  }
 ],
 "metadata": {
  "kernelspec": {
   "display_name": "Python 3",
   "language": "python",
   "name": "python3"
  },
  "language_info": {
   "codemirror_mode": {
    "name": "ipython",
    "version": 3
   },
   "file_extension": ".py",
   "mimetype": "text/x-python",
   "name": "python",
   "nbconvert_exporter": "python",
   "pygments_lexer": "ipython3",
   "version": "3.11.4"
  }
 },
 "nbformat": 4,
 "nbformat_minor": 5
}
