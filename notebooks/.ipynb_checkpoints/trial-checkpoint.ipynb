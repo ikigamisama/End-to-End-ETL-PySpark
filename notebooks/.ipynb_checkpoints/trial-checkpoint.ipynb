{
 "cells": [
  {
   "cell_type": "code",
   "execution_count": 1,
   "id": "abaadaed",
   "metadata": {},
   "outputs": [],
   "source": [
    "from pyspark.sql import SparkSession\n",
    "import requests"
   ]
  },
  {
   "cell_type": "code",
   "execution_count": 2,
   "id": "336acfbf",
   "metadata": {},
   "outputs": [
    {
     "data": {
      "text/html": [
       "\n",
       "            <div>\n",
       "                <p><b>SparkSession - in-memory</b></p>\n",
       "                \n",
       "        <div>\n",
       "            <p><b>SparkContext</b></p>\n",
       "\n",
       "            <p><a href=\"http://8b201cec1dbe:4041\">Spark UI</a></p>\n",
       "\n",
       "            <dl>\n",
       "              <dt>Version</dt>\n",
       "                <dd><code>v3.5.0</code></dd>\n",
       "              <dt>Master</dt>\n",
       "                <dd><code>local[*]</code></dd>\n",
       "              <dt>AppName</dt>\n",
       "                <dd><code>Read_Silver_Layer</code></dd>\n",
       "            </dl>\n",
       "        </div>\n",
       "        \n",
       "            </div>\n",
       "        "
      ],
      "text/plain": [
       "<pyspark.sql.session.SparkSession at 0x7f2920240110>"
      ]
     },
     "execution_count": 2,
     "metadata": {},
     "output_type": "execute_result"
    }
   ],
   "source": [
    "spark = SparkSession.builder.master(\"local[*]\") \\\n",
    "    .appName(\"Read_Silver_Layer\") \\\n",
    "    .config(\"spark.jars.packages\", \"org.apache.hadoop:hadoop-aws:3.3.4,com.amazonaws:aws-java-sdk-bundle:1.12.262\") \\\n",
    "    .config(\"spark.hadoop.fs.s3a.endpoint\", \"http://minio:9000\") \\\n",
    "    .config(\"spark.hadoop.fs.s3a.access.key\", \"minioLocalAccessKey\") \\\n",
    "    .config(\"spark.hadoop.fs.s3a.secret.key\", \"minioLocalSecretKey123\") \\\n",
    "    .config(\"spark.hadoop.fs.s3a.path.style.access\", \"true\") \\\n",
    "    .config(\"spark.hadoop.fs.s3a.impl\", \"org.apache.hadoop.fs.s3a.S3AFileSystem\") \\\n",
    "    .config(\"spark.hadoop.fs.s3a.connection.ssl.enabled\", \"false\") \\\n",
    "    .config(\"spark.sql.adaptive.enabled\", \"true\") \\\n",
    "    .config(\"spark.sql.adaptive.coalescePartitions.enabled\", \"true\") \\\n",
    "    .getOrCreate()\n",
    "    \n",
    "spark"
   ]
  },
  {
   "cell_type": "code",
   "execution_count": 3,
   "id": "c9403bd6",
   "metadata": {},
   "outputs": [
    {
     "name": "stdout",
     "output_type": "stream",
     "text": [
      "✅ Loaded: customers\n",
      "✅ Loaded: transactions_static\n",
      "✅ Loaded: transactions_aggregated\n",
      "✅ Loaded: products_static\n",
      "✅ Loaded: products_aggregated\n"
     ]
    }
   ],
   "source": [
    "paths = {\n",
    "    \"customers\": \"s3a://etl-dag/silver/data/customers/\",\n",
    "    \"transactions_static\": \"s3a://etl-dag/silver/data/transactions/static/\",\n",
    "    \"transactions_aggregated\": \"s3a://etl-dag/silver/data/transactions/aggregated/\",\n",
    "    \"products_static\": \"s3a://etl-dag/silver/data/products/static/\",\n",
    "    \"products_aggregated\": \"s3a://etl-dag/silver/data/products/aggregated/\"\n",
    "}\n",
    "\n",
    "dfs = {}\n",
    "for name, path in paths.items():\n",
    "    dfs[name] = spark.read.parquet(path)\n",
    "    print(f\"✅ Loaded: {name}\")"
   ]
  },
  {
   "cell_type": "code",
   "execution_count": 6,
   "id": "dd6f61d3",
   "metadata": {},
   "outputs": [
    {
     "name": "stdout",
     "output_type": "stream",
     "text": [
      "+-----------+--------------------+--------------------+-------------+--------------------+-----------+---------------+-------+---------+---+------+------+----------------+------------+------------------+------------------+\n",
      "|Customer_ID|                Name|               Email|        Phone|             Address|       City|          State|Zipcode|  Country|Age|Gender|Income|Customer_Segment|total_orders|       total_spent|        avg_rating|\n",
      "+-----------+--------------------+--------------------+-------------+--------------------+-----------+---------------+-------+---------+---+------+------+----------------+------------+------------------+------------------+\n",
      "|    10007.0|        Jacob Steele|   Laura24@gmail.com|4.695584186E9|     58931 Ramos Dam| Fort Worth|     New Mexico|87200.0|      USA| 19|  Male|   Low|             New|           5|     1090.91287822|               3.8|\n",
      "|    10017.0|       Paula Perkins|    Tommy1@gmail.com|2.069956466E9|1731 Brian Causew...| Portsmouth|        England|32148.0|       UK| 21|Female|Medium|         Regular|           2|      259.92026157|               3.0|\n",
      "|    10031.0|           Juan Cook|    Anna76@gmail.com|4.277061682E9|97428 Whitaker Co...|    Cardiff|        England|56694.0|       UK| 20|Female|Medium|         Premium|           2|       839.4125623|               3.5|\n",
      "|    10032.0|    Deborah Alvarado|  Laurie30@gmail.com|2.028571727E9|779 Gonzalez Corn...| Portsmouth|        England|64880.0|       UK| 24|  Male|Medium|         Regular|           6|     1643.74609483|               3.5|\n",
      "|    10049.0|Mrs. Rachael Hugh...|     John8@gmail.com|1.618985241E9|723 Burton Street...|  Frankfurt|         Berlin|51463.0|  Germany| 22|  Male|Medium|         Regular|           3|       952.8476831|               5.0|\n",
      "|    10051.0|          Alan Baker|   Daisy20@gmail.com|2.233190943E9|     107 Byrd Shoals|  Kitchener|        Ontario|64395.0|   Canada| 22|Female|Medium|         Regular|           6|1538.0296284400001|               3.0|\n",
      "|    10083.0|        Steven Smith|Christopher17@gma...|  9.2804745E9|  0966 Marshall Burg| Gold Coast|New South Wales|25671.0|Australia| 20|  Male|Medium|             New|           3| 685.6321475899999|3.6666666666666665|\n",
      "|    10084.0|       Brian Mendoza|   David70@gmail.com|4.514709143E9|3252 Jones Drives...|      Tulsa|       New York|11166.0|      USA| 20|Female|   Low|             New|           2|       753.1368155|               2.0|\n",
      "|    10085.0|      Allison Decker|Veronica95@gmail.com|7.085912665E9|      484 Shawn Cove|  Bielefeld|         Berlin|37134.0|  Germany| 51|Female|Medium|         Regular|           3|299.25671897999996|               3.0|\n",
      "|    10122.0|       Lisa Callahan|  Joshua23@gmail.com|2.767477163E9|985 William Ramp ...|    Chicago|    Connecticut|46812.0|      USA| 34|  Male|  High|             New|           4|      731.28749549|               4.0|\n",
      "|    10126.0|         Mark Torres|    Jose87@gmail.com| 2.10950226E9|     1290 Hunt Curve|Quebec City|        Ontario|74329.0|   Canada| 28|  Male|Medium|             New|           4| 702.5826011899999|              3.25|\n",
      "|    10128.0|     Brandon Terrell|  Teresa49@gmail.com|2.537121355E9|4476 Vasquez Broo...|  Melbourne|New South Wales|64018.0|Australia| 69|Female|   Low|             New|           5|      1395.3668122|               2.6|\n",
      "|    10138.0| Christopher Griffin|    Tonya7@gmail.com|1.000282596E9|   411 Russell Lakes|  Frankfurt|         Berlin|48648.0|  Germany| 57|  Male|  High|         Premium|           2|       633.2221126|               4.5|\n",
      "|    10197.0|   Jacqueline Vaughn|  Justin13@gmail.com|9.970161753E9|758 Michelle Forg...| Portsmouth|        England|80854.0|       UK| 19|  Male|Medium|         Regular|           3|      593.29861211|2.6666666666666665|\n",
      "|    10281.0|     Rebecca Schmidt|   Ronald8@gmail.com|7.036688899E9|   04687 Riggs Crest| Fort Worth|     New Mexico|32192.0|      USA| 19|  Male|   Low|             New|           8|     2347.49369991|               4.0|\n",
      "|    10285.0|      Mr. Jeff White|  Sheryl45@gmail.com|6.551996193E9|   98689 Albert Well| Düsseldorf|         Berlin|60670.0|  Germany| 20|Female|   Low|             New|           5|     1538.27955395|               3.6|\n",
      "|    10306.0|      Anthony Sparks|  Nathan36@gmail.com|6.724671176E9|76719 Carson Circ...|    Chicago|    Connecticut|12560.0|      USA| 20|Female|   Low|             New|           4|1424.0570523000001|               3.0|\n",
      "|    10309.0|        Ronald Owens|  Andrew27@gmail.com|8.390067139E9|3753 Robert Motorway| Portsmouth|        England|71839.0|       UK| 19|Female|Medium|         Regular|           5|1511.1445661999999|               3.0|\n",
      "|    10318.0|     Ms. Raven Kelly|  Dennis66@gmail.com|6.152934936E9|     584 James Hills|     Regina|        Ontario|85012.0|   Canada| 23|  Male|Medium|         Premium|           3| 750.4832091000001| 4.333333333333333|\n",
      "|    10325.0|       Stephen Lyons| Matthew96@gmail.com|9.653680629E9|    8450 Best Drives| Fort Worth|     New Mexico|98164.0|      USA| 19|  Male|  High|             New|           2|398.11984454000003|               4.5|\n",
      "+-----------+--------------------+--------------------+-------------+--------------------+-----------+---------------+-------+---------+---+------+------+----------------+------------+------------------+------------------+\n",
      "only showing top 20 rows\n",
      "\n"
     ]
    }
   ],
   "source": [
    "dfs['customers'].show()"
   ]
  },
  {
   "cell_type": "code",
   "execution_count": null,
   "id": "1da153c8-2cb7-4011-ae1d-cf496f5ed572",
   "metadata": {},
   "outputs": [],
   "source": []
  }
 ],
 "metadata": {
  "kernelspec": {
   "display_name": "Python 3 (ipykernel)",
   "language": "python",
   "name": "python3"
  },
  "language_info": {
   "codemirror_mode": {
    "name": "ipython",
    "version": 3
   },
   "file_extension": ".py",
   "mimetype": "text/x-python",
   "name": "python",
   "nbconvert_exporter": "python",
   "pygments_lexer": "ipython3",
   "version": "3.11.6"
  }
 },
 "nbformat": 4,
 "nbformat_minor": 5
}
